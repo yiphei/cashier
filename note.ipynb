{
 "cells": [
  {
   "cell_type": "code",
   "execution_count": 1,
   "metadata": {},
   "outputs": [],
   "source": [
    "from openai import OpenAI\n",
    "client = OpenAI(\n",
    "    # Defaults to os.environ.get(\"OPENAI_API_KEY\")\n",
    ")\n",
    "\n",
    "SYSTEM_PROMPT = \"You are a cashier working for the coffee shop Heaven Coffee. Customers come to you to place orders. \" \\\n",
    "                \"Your job is to take their orders, answer reasonable questions about the shop & menu only, and assist \" \\\n",
    "                \"them with any issues they may have about their orders. You are not responsible for anything else, \" \\\n",
    "                \"so you must refuse to engage in anything unrelated\"\n",
    "\n",
    "def get_menu_items_options(menu_item_id):\n",
    "    return None\n",
    "\n",
    "def get_menu_item_id_from_name(menu_item_name):\n",
    "    return None\n",
    "\n",
    "tools = [\n",
    "    {\n",
    "        \"type\": \"function\",\n",
    "        \"function\": {\n",
    "            \"name\": \"get_menu_items\",\n",
    "            \"description\": \"Get all the options available for the menu item. \" \\\n",
    "                            \"Most customers either don't provide a complete order (i.e. not specifying required options like size)\" \\\n",
    "                            \"or are not ware of all the options available for a menu item. It is your job to help them with both cases.\",\n",
    "            \"parameters\": {\n",
    "                \"type\": \"object\",\n",
    "                \"properties\": {\n",
    "                    \"menu_item_id\": {\n",
    "                        \"type\": \"string\",\n",
    "                        \"description\": \"The menu item id used in the db.\"\n",
    "                    }\n",
    "                },\n",
    "                \"required\": [\"menu_item_id\"],\n",
    "                \"additionalProperties\": False\n",
    "            }\n",
    "        }\n",
    "    },\n",
    "        {\n",
    "        \"type\": \"function\",\n",
    "        \"function\": {\n",
    "            \"name\": \"get_menu_item_id_from_name\",\n",
    "            \"description\": \"Get the menu item id given the name string of the menu item.\",\n",
    "            \"parameters\": {\n",
    "                \"type\": \"object\",\n",
    "                \"properties\": {\n",
    "                    \"menu_item_name\": {\n",
    "                        \"type\": \"string\",\n",
    "                        \"description\": \"The menu item name.\"\n",
    "                    }\n",
    "                },\n",
    "                \"required\": [\"menu_item_name\"],\n",
    "                \"additionalProperties\": False\n",
    "            }\n",
    "        }\n",
    "    }\n",
    "]\n",
    "\n",
    "chat_completion = client.chat.completions.create(\n",
    "    model=\"gpt-4o-mini\",\n",
    "    messages=[{\"role\": \"system\", \"content\": SYSTEM_PROMPT},\n",
    "              {\"role\": \"user\", \"content\": \"hi, i want a venti latte double shot\"}],\n",
    "    tools=tools\n",
    ")"
   ]
  },
  {
   "cell_type": "code",
   "execution_count": 2,
   "metadata": {},
   "outputs": [
    {
     "name": "stdout",
     "output_type": "stream",
     "text": [
      "[Choice(finish_reason='tool_calls', index=0, logprobs=None, message=ChatCompletionMessage(content=None, refusal=None, role='assistant', function_call=None, tool_calls=[ChatCompletionMessageToolCall(id='call_sXOXQry4TCGjIVrj2n3Kpsbv', function=Function(arguments='{\"menu_item_name\":\"latte\"}', name='get_menu_item_id_from_name'), type='function')]))]\n"
     ]
    }
   ],
   "source": [
    "# print(chat_completion.choices[0].message)\n",
    "print(chat_completion.choices)"
   ]
  },
  {
   "cell_type": "code",
   "execution_count": 3,
   "metadata": {},
   "outputs": [
    {
     "data": {
      "text/plain": [
       "[{'type': 'function',\n",
       "  'function': {'name': 'get_menu_items_options',\n",
       "   'description': \"Get all the options available for the menu item. Most customers either don't provide a complete order (i.e. not specifying required options like size)or are not aware of all the options available for a menu item. It is your job to help them with both cases.\",\n",
       "   'parameters': {'type': 'object',\n",
       "    'properties': {'menu_item_id': {'type': 'integer',\n",
       "      'description': 'The menu item id used in the db.'}},\n",
       "    'required': ['menu_item_id'],\n",
       "    'additionalProperties': False}}},\n",
       " {'type': 'function',\n",
       "  'function': {'name': 'get_menu_item_from_name',\n",
       "   'description': 'Get the menu item given the name string of the menu item.',\n",
       "   'parameters': {'type': 'object',\n",
       "    'properties': {'menu_item_name': {'type': 'string',\n",
       "      'description': 'The menu item name.'}},\n",
       "    'required': ['menu_item_name'],\n",
       "    'additionalProperties': False}}}]"
      ]
     },
     "execution_count": 3,
     "metadata": {},
     "output_type": "execute_result"
    }
   ],
   "source": [
    "from db_functions import openai_tool_decorator, get_menu_item_from_name, OPENAI_TOOLS, create_client, MenuItem\n",
    "\n",
    "OPENAI_TOOLS"
   ]
  },
  {
   "cell_type": "code",
   "execution_count": 4,
   "metadata": {},
   "outputs": [
    {
     "data": {
      "text/plain": [
       "MenuItem(id=20, name='Pecan Crunch Oatmilk Latte', description='270 calories', group='LATTE')"
      ]
     },
     "execution_count": 4,
     "metadata": {},
     "output_type": "execute_result"
    }
   ],
   "source": [
    "create_client()\n",
    "get_menu_item_from_name(\"pecan latte\")"
   ]
  },
  {
   "cell_type": "code",
   "execution_count": 8,
   "metadata": {},
   "outputs": [
    {
     "data": {
      "text/plain": [
       "(1, 'b', 'c', 'd')"
      ]
     },
     "execution_count": 8,
     "metadata": {},
     "output_type": "execute_result"
    }
   ],
   "source": [
    "a = MenuItem(id=1, name='b', description='c', group='d')\n",
    "a.id, a.name, a.description, a.group"
   ]
  }
 ],
 "metadata": {
  "kernelspec": {
   "display_name": "cashier",
   "language": "python",
   "name": "python3"
  },
  "language_info": {
   "codemirror_mode": {
    "name": "ipython",
    "version": 3
   },
   "file_extension": ".py",
   "mimetype": "text/x-python",
   "name": "python",
   "nbconvert_exporter": "python",
   "pygments_lexer": "ipython3",
   "version": "3.11.9"
  }
 },
 "nbformat": 4,
 "nbformat_minor": 2
}
