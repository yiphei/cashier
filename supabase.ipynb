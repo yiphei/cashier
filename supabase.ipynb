{
 "cells": [
  {
   "cell_type": "code",
   "execution_count": 6,
   "metadata": {},
   "outputs": [],
   "source": [
    "import os\n",
    "from supabase import create_client, Client\n",
    "\n",
    "url: str = os.environ.get(\"SUPABASE_URL\")\n",
    "key: str = os.environ.get(\"SUPABASE_KEY\")\n",
    "supabase: Client = create_client(url, key)\n"
   ]
  },
  {
   "cell_type": "code",
   "execution_count": 33,
   "metadata": {},
   "outputs": [],
   "source": [
    "ITEMS = [\n",
    "\"Water\",\n",
    "]\n",
    "\n",
    "for milk in ITEMS:\n",
    "    response = (    \n",
    "        supabase.table(\"option\")\n",
    "        .insert({\"name\": milk, \"type\": \"WATER\", \"value_type\": \"STR\"})\n",
    "        .execute()\n",
    "    )"
   ]
  },
  {
   "cell_type": "code",
   "execution_count": 54,
   "metadata": {},
   "outputs": [
    {
     "data": {
      "text/plain": [
       "[{'id': 2, 'type': 'MILK'},\n",
       " {'id': 3, 'type': 'MILK'},\n",
       " {'id': 5, 'type': 'MILK'},\n",
       " {'id': 11, 'type': 'MILK'},\n",
       " {'id': 19, 'type': 'MILK'},\n",
       " {'id': 20, 'type': 'MILK'},\n",
       " {'id': 21, 'type': 'MILK'},\n",
       " {'id': 22, 'type': 'MILK'},\n",
       " {'id': 23, 'type': 'MILK'},\n",
       " {'id': 24, 'type': 'MILK'},\n",
       " {'id': 25, 'type': 'MILK'},\n",
       " {'id': 26, 'type': 'SYRUP'},\n",
       " {'id': 27, 'type': 'SYRUP'},\n",
       " {'id': 28, 'type': 'SYRUP'},\n",
       " {'id': 29, 'type': 'SYRUP'},\n",
       " {'id': 30, 'type': 'SYRUP'},\n",
       " {'id': 31, 'type': 'SYRUP'},\n",
       " {'id': 32, 'type': 'SYRUP'},\n",
       " {'id': 33, 'type': 'SYRUP'},\n",
       " {'id': 34, 'type': 'SYRUP'},\n",
       " {'id': 35, 'type': 'SYRUP'},\n",
       " {'id': 36, 'type': 'SAUCE'},\n",
       " {'id': 37, 'type': 'SAUCE'},\n",
       " {'id': 38, 'type': 'SAUCE'},\n",
       " {'id': 39, 'type': 'SAUCE'},\n",
       " {'id': 40, 'type': 'POWDER'},\n",
       " {'id': 41, 'type': 'POWDER'},\n",
       " {'id': 42, 'type': 'COLD_FOAM'},\n",
       " {'id': 43, 'type': 'COLD_FOAM'},\n",
       " {'id': 44, 'type': 'COLD_FOAM'},\n",
       " {'id': 45, 'type': 'COLD_FOAM'},\n",
       " {'id': 46, 'type': 'COLD_FOAM'},\n",
       " {'id': 47, 'type': 'COLD_FOAM'},\n",
       " {'id': 48, 'type': 'COLD_FOAM'},\n",
       " {'id': 49, 'type': 'COLD_FOAM'},\n",
       " {'id': 50, 'type': 'TOPPING'},\n",
       " {'id': 51, 'type': 'TOPPING'},\n",
       " {'id': 52, 'type': 'TOPPING'},\n",
       " {'id': 53, 'type': 'TOPPING'},\n",
       " {'id': 54, 'type': 'TOPPING'},\n",
       " {'id': 55, 'type': 'TOPPING'},\n",
       " {'id': 56, 'type': 'DRIZZLE'},\n",
       " {'id': 57, 'type': 'DRIZZLE'},\n",
       " {'id': 58, 'type': 'DRIZZLE'},\n",
       " {'id': 59, 'type': 'WHIPPED_CREAM'},\n",
       " {'id': 60, 'type': 'TEA'},\n",
       " {'id': 61, 'type': 'LINE'},\n",
       " {'id': 62, 'type': 'LINE'},\n",
       " {'id': 63, 'type': 'CREAMER'},\n",
       " {'id': 64, 'type': 'CREAMER'},\n",
       " {'id': 65, 'type': 'CREAMER'},\n",
       " {'id': 66, 'type': 'CREAMER'},\n",
       " {'id': 67, 'type': 'CREAMER'},\n",
       " {'id': 68, 'type': 'CREAMER'},\n",
       " {'id': 69, 'type': 'CREAMER'},\n",
       " {'id': 70, 'type': 'CREAMER'},\n",
       " {'id': 71, 'type': 'CREAMER'},\n",
       " {'id': 72, 'type': 'CREAMER'},\n",
       " {'id': 73, 'type': 'CREAMER'},\n",
       " {'id': 74, 'type': 'PERSONAL_CUP'},\n",
       " {'id': 75, 'type': 'ESPRESSO'},\n",
       " {'id': 76, 'type': 'ESPRESSO'},\n",
       " {'id': 77, 'type': 'ESPRESSO'},\n",
       " {'id': 78, 'type': 'ESPRESSO'},\n",
       " {'id': 79, 'type': 'ESPRESSO'},\n",
       " {'id': 80, 'type': 'ESPRESSO'},\n",
       " {'id': 81, 'type': 'SWEETENER'},\n",
       " {'id': 82, 'type': 'SWEETENER'},\n",
       " {'id': 83, 'type': 'WATER'}]"
      ]
     },
     "execution_count": 54,
     "metadata": {},
     "output_type": "execute_result"
    }
   ],
   "source": [
    "response = (\n",
    "    supabase.table(\"option\")\n",
    "    .select(\"id, type\")\n",
    "    .order(\"id\", desc=False)\n",
    "    .execute()\n",
    ")\n",
    "response.data"
   ]
  },
  {
   "cell_type": "code",
   "execution_count": 57,
   "metadata": {},
   "outputs": [
    {
     "data": {
      "text/plain": [
       "[(2, 3),\n",
       " (26, 27),\n",
       " (36, 37),\n",
       " (40, 41),\n",
       " (42, 43),\n",
       " (50, 51),\n",
       " (56, 57),\n",
       " (61, 62),\n",
       " (63, 64),\n",
       " (75, 76),\n",
       " (81, 82),\n",
       " (83, None)]"
      ]
     },
     "execution_count": 57,
     "metadata": {},
     "output_type": "execute_result"
    }
   ],
   "source": [
    "first_second_option_id_tuple = []\n",
    "\n",
    "last_option_type = None\n",
    "first_option_id = None\n",
    "second_option_id = None\n",
    "for option in response.data:\n",
    "    curr_option_type = option[\"type\"]\n",
    "    if last_option_type != curr_option_type:\n",
    "        if last_option_type is not None and first_option_id is not None and second_option_id is not None:\n",
    "            first_second_option_id_tuple.append((first_option_id, second_option_id))\n",
    "\n",
    "        first_option_id = None\n",
    "        second_option_id = None\n",
    "        last_option_type = curr_option_type\n",
    "\n",
    "    if second_option_id is None:\n",
    "        if first_option_id is None:\n",
    "            first_option_id = option['id']\n",
    "        else:\n",
    "            second_option_id = option[\"id\"]\n",
    "\n",
    "if last_option_type is not None and first_option_id is not None:\n",
    "    first_second_option_id_tuple.append((first_option_id, second_option_id))\n",
    "\n",
    "first_second_option_id_tuple\n"
   ]
  },
  {
   "cell_type": "code",
   "execution_count": 58,
   "metadata": {},
   "outputs": [
    {
     "data": {
      "text/plain": [
       "[(2, 3),\n",
       " (26, 27),\n",
       " (36, 37),\n",
       " (40, 41),\n",
       " (42, 43),\n",
       " (50, 51),\n",
       " (56, 57),\n",
       " (61, 62),\n",
       " (63, 64),\n",
       " (75, 76),\n",
       " (81, 82)]"
      ]
     },
     "execution_count": 58,
     "metadata": {},
     "output_type": "execute_result"
    }
   ],
   "source": [
    "first_second_option_id_tuple = first_second_option_id_tuple[:-1]\n",
    "first_second_option_id_tuple"
   ]
  },
  {
   "cell_type": "code",
   "execution_count": 60,
   "metadata": {},
   "outputs": [
    {
     "name": "stdout",
     "output_type": "stream",
     "text": [
      "AAAAAA\n",
      "AAAAAA\n",
      "AAAAAA\n",
      "AAAAAA\n"
     ]
    }
   ],
   "source": [
    "for first_id, second_id in first_second_option_id_tuple:\n",
    "    response = supabase.table(\"discrete_option_value\").select(\"*\").eq(\"option_id\",second_id).execute()\n",
    "    second_data = response.data\n",
    "    response = supabase.table(\"discrete_option_value\").select(\"*\").eq(\"option_id\",first_id).execute()\n",
    "    first_data = response.data\n",
    "    if len(first_data) == 0 and len(second_data) > 0:\n",
    "        print(\"AAAAAA\")\n",
    "        for item in second_data:\n",
    "            name_value = item[\"name\"]\n",
    "            response = (\n",
    "                supabase.table(\"discrete_option_value\")\n",
    "                .insert({\"option_id\": first_id, \"name\": name_value})\n",
    "                .execute()\n",
    "            )"
   ]
  },
  {
   "cell_type": "code",
   "execution_count": 40,
   "metadata": {},
   "outputs": [],
   "source": [
    "DISCRETE_VALUE = [\"Light\", \"Medium\", \"Extra\"]\n",
    "\n",
    "response = (\n",
    "    supabase.table(\"option\")\n",
    "    .select(\"id, type\")\n",
    "    .eq(\"type\", \"WATER\")\n",
    "    .execute()\n",
    ")\n",
    "item_ids = [obj['id'] for obj in response.data]\n",
    "\n",
    "for item_id in item_ids:\n",
    "    for value in DISCRETE_VALUE:\n",
    "        response = (\n",
    "            supabase.table(\"discrete_option_value\")\n",
    "            .insert({\"option_id\": item_id, \"name\": value})\n",
    "            .execute()\n",
    "        )"
   ]
  },
  {
   "cell_type": "code",
   "execution_count": 37,
   "metadata": {},
   "outputs": [
    {
     "data": {
      "text/plain": [
       "[83]"
      ]
     },
     "execution_count": 37,
     "metadata": {},
     "output_type": "execute_result"
    }
   ],
   "source": [
    "item_ids"
   ]
  },
  {
   "cell_type": "code",
   "execution_count": 39,
   "metadata": {},
   "outputs": [
    {
     "data": {
      "text/plain": [
       "APIResponse[~_ReturnT](data=[{'id': 83, 'type': 'WATER'}], count=None)"
      ]
     },
     "execution_count": 39,
     "metadata": {},
     "output_type": "execute_result"
    }
   ],
   "source": [
    "response"
   ]
  },
  {
   "cell_type": "code",
   "execution_count": 121,
   "metadata": {},
   "outputs": [
    {
     "data": {
      "text/plain": [
       "APIResponse[~_ReturnT](data=[], count=None)"
      ]
     },
     "execution_count": 121,
     "metadata": {},
     "output_type": "execute_result"
    }
   ],
   "source": [
    "supabase.table(\"option\").select(\"id, name\").like(\"name\", \"%Oil%\").execute()"
   ]
  },
  {
   "cell_type": "code",
   "execution_count": 143,
   "metadata": {},
   "outputs": [],
   "source": [
    "MENU_ITEM = \"White Chocolate Mocha\"\n",
    "OPTION_VALUES = {\n",
    "    \"SHORT\": {\n",
    "        \"2% Milk\": \"Steamed\",\n",
    "        \"Signature Espresso Roast\": 1,\n",
    "        \"White Chocolate Mocha\": 2,\n",
    "        \"Whipped Cream\": \"Light\",\n",
    "    },\n",
    "    \"TALL\": {\n",
    "        \"2% Milk\": \"Steamed\",\n",
    "        \"Signature Espresso Roast\": 1,\n",
    "        \"White Chocolate Mocha\": 3,\n",
    "        \"Whipped Cream\": \"Light\",\n",
    "    },\n",
    "    \"GRANDE\": {\n",
    "        \"2% Milk\": \"Steamed\",\n",
    "        \"Signature Espresso Roast\": 2,\n",
    "        \"White Chocolate Mocha\": 4,\n",
    "        \"Whipped Cream\": \"Light\",\n",
    "    },\n",
    "    \"VENTI\": {\n",
    "        \"2% Milk\": \"Steamed\",\n",
    "        \"Signature Espresso Roast\": 2,\n",
    "        \"White Chocolate Mocha\": 5,\n",
    "        \"Whipped Cream\": \"Light\",\n",
    "    }\n",
    "}\n",
    "# OPTION_VALUES = {\n",
    "#     \"SOLO\": {\n",
    "#         \"Signature Espresso Roast\": 2,\n",
    "#         \"Whipped Cream\": \"Light\"\n",
    "#     },\n",
    "# }"
   ]
  },
  {
   "cell_type": "code",
   "execution_count": 144,
   "metadata": {},
   "outputs": [
    {
     "name": "stdout",
     "output_type": "stream",
     "text": [
      "{'id': 19, 'name': '2% Milk'} Steamed\n",
      "{'id': 59, 'name': 'Whipped Cream'} Light\n",
      "{'id': 19, 'name': '2% Milk'} Steamed\n",
      "{'id': 59, 'name': 'Whipped Cream'} Light\n",
      "{'id': 19, 'name': '2% Milk'} Steamed\n",
      "{'id': 59, 'name': 'Whipped Cream'} Light\n",
      "{'id': 19, 'name': '2% Milk'} Steamed\n",
      "{'id': 59, 'name': 'Whipped Cream'} Light\n"
     ]
    }
   ],
   "source": [
    "response = (\n",
    "    supabase.table(\"menu_item\")\n",
    "    .select(\"id, name\")\n",
    "    .eq(\"name\", MENU_ITEM)\n",
    "    .execute()\n",
    ")\n",
    "\n",
    "menu_item = response.data[0]\n",
    "assert menu_item is not None\n",
    "\n",
    "for size, obj in OPTION_VALUES.items():\n",
    "    for option, option_value in obj.items():\n",
    "        response = supabase.table(\"option\").select(\"id, name\").eq(\"name\", option).execute()\n",
    "        option = response.data[0]\n",
    "        assert option is not None\n",
    "\n",
    "        option_value_item = None\n",
    "        all_option_value_items = None\n",
    "        if type(option_value) == str:\n",
    "            print(option, option_value)\n",
    "            response = (supabase\n",
    "                        .table(\"discrete_option_value\")\n",
    "                        .select(\"id, name\")\n",
    "                        .eq(\"name\", option_value)\n",
    "                        .eq(\"option_id\", option[\"id\"])\n",
    "                        .execute())\n",
    "            option_value_item = response.data[0]\n",
    "            assert option_value_item is not None\n",
    "\n",
    "            response = (supabase\n",
    "                        .table(\"discrete_option_value\")\n",
    "                        .select(\"id, name\")\n",
    "                        .eq(\"option_id\", option[\"id\"])\n",
    "                        .execute())\n",
    "            all_option_value_items = response.data\n",
    "            assert len(all_option_value_items) > 0\n",
    "\n",
    "        col_values = {}\n",
    "        if type(option_value) == int:\n",
    "            col_values[\"default_num_value\"] = option_value\n",
    "        elif type(option_value) == bool:\n",
    "            col_values[\"default_bool_value\"] = option_value\n",
    "        elif type(option_value) == str:\n",
    "            col_values[\"default_discrete_value_id\"] = option_value_item[\"id\"]\n",
    "\n",
    "\n",
    "        response = supabase.table(\"option_type_config\").insert(col_values).execute()\n",
    "        option_type_config = response.data[0]\n",
    "\n",
    "        response = supabase.table(\"menu_item_to_options_map\").insert({\n",
    "            \"menu_item_id\": menu_item[\"id\"],\n",
    "            \"option_id\": option[\"id\"],\n",
    "            \"cup_size\": size,\n",
    "            \"option_type_config_id\": option_type_config[\"id\"],\n",
    "            \"is_required\": False\n",
    "            }).execute()\n",
    "        map_id = response.data[0][\"id\"]\n",
    "\n",
    "        if all_option_value_items is not None:\n",
    "            for option_value_item in all_option_value_items:\n",
    "                response = supabase.table(\"menu_item_to_option_values_map\").insert({\n",
    "                \"item_option_id\": map_id,\n",
    "                \"option_value_id\": option_value_item[\"id\"],\n",
    "                }).execute()   \n"
   ]
  },
  {
   "cell_type": "code",
   "execution_count": 4,
   "metadata": {},
   "outputs": [
    {
     "data": {
      "text/plain": [
       "[{'id': 20, 'name': 'Pecan Crunch Oatmilk Latte'},\n",
       " {'id': 21, 'name': 'Pumpkin Spice Latte'},\n",
       " {'id': 22, 'name': 'Oleato Caffé Latte with Oatmilk'},\n",
       " {'id': 23, 'name': 'Caffè Latte'},\n",
       " {'id': 24, 'name': 'Cinnamon Dolce Latte'},\n",
       " {'id': 25, 'name': 'Starbucks Blonde Vanilla Latte'}]"
      ]
     },
     "execution_count": 4,
     "metadata": {},
     "output_type": "execute_result"
    }
   ],
   "source": [
    "(supabase.table(\"menu_item\")\n",
    " .select(\"id\", \"name\")\n",
    " .text_search(\"name\", \"latte\")\n",
    ".execute()).data"
   ]
  },
  {
   "cell_type": "code",
   "execution_count": 29,
   "metadata": {},
   "outputs": [
    {
     "data": {
      "text/plain": [
       "defaultdict(list,\n",
       "            {'SHORT': [DefaultOption(option_name='2% Milk', option_type='MILK', value_type='STR', num_unit=None, default_value=OptionValue(default_num_value=None, default_bool_value=None, discrete_discrete_value='Steamed')),\n",
       "              DefaultOption(option_name='Signature Espresso Roast', option_type='ESPRESSO', value_type='NUM', num_unit='SHOT', default_value=OptionValue(default_num_value=1, default_bool_value=None, discrete_discrete_value=None)),\n",
       "              DefaultOption(option_name='Vanilla', option_type='SYRUP', value_type='NUM', num_unit='PUMP', default_value=OptionValue(default_num_value=1, default_bool_value=None, discrete_discrete_value=None)),\n",
       "              DefaultOption(option_name='Caramel Drizzle', option_type='DRIZZLE', value_type='STR', num_unit=None, default_value=OptionValue(default_num_value=None, default_bool_value=None, discrete_discrete_value='Light'))],\n",
       "             'TALL': [DefaultOption(option_name='2% Milk', option_type='MILK', value_type='STR', num_unit=None, default_value=OptionValue(default_num_value=None, default_bool_value=None, discrete_discrete_value='Steamed')),\n",
       "              DefaultOption(option_name='Signature Espresso Roast', option_type='ESPRESSO', value_type='NUM', num_unit='SHOT', default_value=OptionValue(default_num_value=1, default_bool_value=None, discrete_discrete_value=None)),\n",
       "              DefaultOption(option_name='Vanilla', option_type='SYRUP', value_type='NUM', num_unit='PUMP', default_value=OptionValue(default_num_value=2, default_bool_value=None, discrete_discrete_value=None)),\n",
       "              DefaultOption(option_name='Caramel Drizzle', option_type='DRIZZLE', value_type='STR', num_unit=None, default_value=OptionValue(default_num_value=None, default_bool_value=None, discrete_discrete_value='Light'))],\n",
       "             'GRANDE': [DefaultOption(option_name='2% Milk', option_type='MILK', value_type='STR', num_unit=None, default_value=OptionValue(default_num_value=None, default_bool_value=None, discrete_discrete_value='Steamed')),\n",
       "              DefaultOption(option_name='Signature Espresso Roast', option_type='ESPRESSO', value_type='NUM', num_unit='SHOT', default_value=OptionValue(default_num_value=2, default_bool_value=None, discrete_discrete_value=None)),\n",
       "              DefaultOption(option_name='Vanilla', option_type='SYRUP', value_type='NUM', num_unit='PUMP', default_value=OptionValue(default_num_value=3, default_bool_value=None, discrete_discrete_value=None)),\n",
       "              DefaultOption(option_name='Caramel Drizzle', option_type='DRIZZLE', value_type='STR', num_unit=None, default_value=OptionValue(default_num_value=None, default_bool_value=None, discrete_discrete_value='Light'))],\n",
       "             'VENTI': [DefaultOption(option_name='2% Milk', option_type='MILK', value_type='STR', num_unit=None, default_value=OptionValue(default_num_value=None, default_bool_value=None, discrete_discrete_value='Steamed')),\n",
       "              DefaultOption(option_name='Signature Espresso Roast', option_type='ESPRESSO', value_type='NUM', num_unit='SHOT', default_value=OptionValue(default_num_value=2, default_bool_value=None, discrete_discrete_value=None)),\n",
       "              DefaultOption(option_name='Vanilla', option_type='SYRUP', value_type='NUM', num_unit='PUMP', default_value=OptionValue(default_num_value=4, default_bool_value=None, discrete_discrete_value=None)),\n",
       "              DefaultOption(option_name='Caramel Drizzle', option_type='DRIZZLE', value_type='STR', num_unit=None, default_value=OptionValue(default_num_value=None, default_bool_value=None, discrete_discrete_value='Light'))]})"
      ]
     },
     "execution_count": 29,
     "metadata": {},
     "output_type": "execute_result"
    }
   ],
   "source": [
    "from dataclasses import dataclass\n",
    "from collections import defaultdict\n",
    "\n",
    "@dataclass\n",
    "class OptionValue:\n",
    "    default_num_value: int\n",
    "    default_bool_value: bool \n",
    "    discrete_discrete_value: str\n",
    "\n",
    "@dataclass\n",
    "class DefaultOption:\n",
    "    option_name: str\n",
    "    option_type: str\n",
    "    value_type: str\n",
    "    num_unit: str\n",
    "    default_value: OptionValue \n",
    "\n",
    "response = (    \n",
    "            supabase.table(\"menu_item_to_options_map\")\n",
    "            .select(\"*, option(name, type, value_type, num_unit), option_type_config(default_num_value, default_bool_value, default_discrete_value_id, discrete_option_value(name))\")\n",
    "            .eq(\"menu_item_id\", 27)\n",
    "            .execute()\n",
    "        )\n",
    "data = response.data\n",
    "\n",
    "size_to_options_map = defaultdict(list)\n",
    "for item in data:\n",
    "    option = item[\"option\"]\n",
    "    option_type_config = item[\"option_type_config\"]\n",
    "    do = DefaultOption(option[\"name\"], option[\"type\"], option[\"value_type\"], option[\"num_unit\"], \n",
    "                       OptionValue(option_type_config[\"default_num_value\"], option_type_config[\"default_bool_value\"], option_type_config[\"discrete_option_value\"][\"name\"] if option_type_config[\"discrete_option_value\"] is not None else None))\n",
    "\n",
    "    size_to_options_map[item[\"cup_size\"]].append(do)\n",
    "\n",
    "size_to_options_map"
   ]
  },
  {
   "cell_type": "code",
   "execution_count": 28,
   "metadata": {},
   "outputs": [
    {
     "data": {
      "text/plain": [
       "[{'menu_item_id': 27,\n",
       "  'option_id': 19,\n",
       "  'is_required': False,\n",
       "  'id': 193,\n",
       "  'created_at': '2024-09-28T04:24:02.37071+00:00',\n",
       "  'option_type_config_id': 204,\n",
       "  'cup_size': 'SHORT',\n",
       "  'option': {'name': '2% Milk'},\n",
       "  'option_type_config': {'default_num_value': None,\n",
       "   'default_bool_value': None,\n",
       "   'default_discrete_value_id': 14}},\n",
       " {'menu_item_id': 27,\n",
       "  'option_id': 75,\n",
       "  'is_required': False,\n",
       "  'id': 194,\n",
       "  'created_at': '2024-09-28T04:24:02.616165+00:00',\n",
       "  'option_type_config_id': 205,\n",
       "  'cup_size': 'SHORT',\n",
       "  'option': {'name': 'Signature Espresso Roast'},\n",
       "  'option_type_config': {'default_num_value': 1,\n",
       "   'default_bool_value': None,\n",
       "   'default_discrete_value_id': None}},\n",
       " {'menu_item_id': 27,\n",
       "  'option_id': 34,\n",
       "  'is_required': False,\n",
       "  'id': 195,\n",
       "  'created_at': '2024-09-28T04:24:02.728641+00:00',\n",
       "  'option_type_config_id': 206,\n",
       "  'cup_size': 'SHORT',\n",
       "  'option': {'name': 'Vanilla'},\n",
       "  'option_type_config': {'default_num_value': 1,\n",
       "   'default_bool_value': None,\n",
       "   'default_discrete_value_id': None}},\n",
       " {'menu_item_id': 27,\n",
       "  'option_id': 56,\n",
       "  'is_required': False,\n",
       "  'id': 196,\n",
       "  'created_at': '2024-09-28T04:24:02.938162+00:00',\n",
       "  'option_type_config_id': 207,\n",
       "  'cup_size': 'SHORT',\n",
       "  'option': {'name': 'Caramel Drizzle'},\n",
       "  'option_type_config': {'default_num_value': None,\n",
       "   'default_bool_value': None,\n",
       "   'default_discrete_value_id': 119}},\n",
       " {'menu_item_id': 27,\n",
       "  'option_id': 19,\n",
       "  'is_required': False,\n",
       "  'id': 197,\n",
       "  'created_at': '2024-09-28T04:24:03.260957+00:00',\n",
       "  'option_type_config_id': 208,\n",
       "  'cup_size': 'TALL',\n",
       "  'option': {'name': '2% Milk'},\n",
       "  'option_type_config': {'default_num_value': None,\n",
       "   'default_bool_value': None,\n",
       "   'default_discrete_value_id': 14}},\n",
       " {'menu_item_id': 27,\n",
       "  'option_id': 75,\n",
       "  'is_required': False,\n",
       "  'id': 198,\n",
       "  'created_at': '2024-09-28T04:24:03.471688+00:00',\n",
       "  'option_type_config_id': 209,\n",
       "  'cup_size': 'TALL',\n",
       "  'option': {'name': 'Signature Espresso Roast'},\n",
       "  'option_type_config': {'default_num_value': 1,\n",
       "   'default_bool_value': None,\n",
       "   'default_discrete_value_id': None}},\n",
       " {'menu_item_id': 27,\n",
       "  'option_id': 34,\n",
       "  'is_required': False,\n",
       "  'id': 199,\n",
       "  'created_at': '2024-09-28T04:24:03.568577+00:00',\n",
       "  'option_type_config_id': 210,\n",
       "  'cup_size': 'TALL',\n",
       "  'option': {'name': 'Vanilla'},\n",
       "  'option_type_config': {'default_num_value': 2,\n",
       "   'default_bool_value': None,\n",
       "   'default_discrete_value_id': None}},\n",
       " {'menu_item_id': 27,\n",
       "  'option_id': 56,\n",
       "  'is_required': False,\n",
       "  'id': 200,\n",
       "  'created_at': '2024-09-28T04:24:03.752643+00:00',\n",
       "  'option_type_config_id': 211,\n",
       "  'cup_size': 'TALL',\n",
       "  'option': {'name': 'Caramel Drizzle'},\n",
       "  'option_type_config': {'default_num_value': None,\n",
       "   'default_bool_value': None,\n",
       "   'default_discrete_value_id': 119}},\n",
       " {'menu_item_id': 27,\n",
       "  'option_id': 19,\n",
       "  'is_required': False,\n",
       "  'id': 201,\n",
       "  'created_at': '2024-09-28T04:24:04.05735+00:00',\n",
       "  'option_type_config_id': 212,\n",
       "  'cup_size': 'GRANDE',\n",
       "  'option': {'name': '2% Milk'},\n",
       "  'option_type_config': {'default_num_value': None,\n",
       "   'default_bool_value': None,\n",
       "   'default_discrete_value_id': 14}},\n",
       " {'menu_item_id': 27,\n",
       "  'option_id': 75,\n",
       "  'is_required': False,\n",
       "  'id': 202,\n",
       "  'created_at': '2024-09-28T04:24:04.25048+00:00',\n",
       "  'option_type_config_id': 213,\n",
       "  'cup_size': 'GRANDE',\n",
       "  'option': {'name': 'Signature Espresso Roast'},\n",
       "  'option_type_config': {'default_num_value': 2,\n",
       "   'default_bool_value': None,\n",
       "   'default_discrete_value_id': None}},\n",
       " {'menu_item_id': 27,\n",
       "  'option_id': 34,\n",
       "  'is_required': False,\n",
       "  'id': 203,\n",
       "  'created_at': '2024-09-28T04:24:04.334475+00:00',\n",
       "  'option_type_config_id': 214,\n",
       "  'cup_size': 'GRANDE',\n",
       "  'option': {'name': 'Vanilla'},\n",
       "  'option_type_config': {'default_num_value': 3,\n",
       "   'default_bool_value': None,\n",
       "   'default_discrete_value_id': None}},\n",
       " {'menu_item_id': 27,\n",
       "  'option_id': 56,\n",
       "  'is_required': False,\n",
       "  'id': 204,\n",
       "  'created_at': '2024-09-28T04:24:04.492501+00:00',\n",
       "  'option_type_config_id': 215,\n",
       "  'cup_size': 'GRANDE',\n",
       "  'option': {'name': 'Caramel Drizzle'},\n",
       "  'option_type_config': {'default_num_value': None,\n",
       "   'default_bool_value': None,\n",
       "   'default_discrete_value_id': 119}},\n",
       " {'menu_item_id': 27,\n",
       "  'option_id': 19,\n",
       "  'is_required': False,\n",
       "  'id': 205,\n",
       "  'created_at': '2024-09-28T04:24:04.754025+00:00',\n",
       "  'option_type_config_id': 216,\n",
       "  'cup_size': 'VENTI',\n",
       "  'option': {'name': '2% Milk'},\n",
       "  'option_type_config': {'default_num_value': None,\n",
       "   'default_bool_value': None,\n",
       "   'default_discrete_value_id': 14}},\n",
       " {'menu_item_id': 27,\n",
       "  'option_id': 75,\n",
       "  'is_required': False,\n",
       "  'id': 206,\n",
       "  'created_at': '2024-09-28T04:24:04.949525+00:00',\n",
       "  'option_type_config_id': 217,\n",
       "  'cup_size': 'VENTI',\n",
       "  'option': {'name': 'Signature Espresso Roast'},\n",
       "  'option_type_config': {'default_num_value': 2,\n",
       "   'default_bool_value': None,\n",
       "   'default_discrete_value_id': None}},\n",
       " {'menu_item_id': 27,\n",
       "  'option_id': 34,\n",
       "  'is_required': False,\n",
       "  'id': 207,\n",
       "  'created_at': '2024-09-28T04:24:05.045707+00:00',\n",
       "  'option_type_config_id': 218,\n",
       "  'cup_size': 'VENTI',\n",
       "  'option': {'name': 'Vanilla'},\n",
       "  'option_type_config': {'default_num_value': 4,\n",
       "   'default_bool_value': None,\n",
       "   'default_discrete_value_id': None}},\n",
       " {'menu_item_id': 27,\n",
       "  'option_id': 56,\n",
       "  'is_required': False,\n",
       "  'id': 208,\n",
       "  'created_at': '2024-09-28T04:24:05.19745+00:00',\n",
       "  'option_type_config_id': 219,\n",
       "  'cup_size': 'VENTI',\n",
       "  'option': {'name': 'Caramel Drizzle'},\n",
       "  'option_type_config': {'default_num_value': None,\n",
       "   'default_bool_value': None,\n",
       "   'default_discrete_value_id': 119}}]"
      ]
     },
     "execution_count": 28,
     "metadata": {},
     "output_type": "execute_result"
    }
   ],
   "source": [
    "response = (    \n",
    "            supabase.table(\"menu_item_to_options_map\")\n",
    "            .select(\"*, option(name), option_type_config(default_num_value, default_bool_value, default_discrete_value_id)\")\n",
    "            .eq(\"menu_item_id\", 27)\n",
    "            .execute()\n",
    "        )\n",
    "response.data"
   ]
  },
  {
   "cell_type": "code",
   "execution_count": 40,
   "metadata": {},
   "outputs": [
    {
     "data": {
      "text/plain": [
       "defaultdict(list,\n",
       "            {'SHORT': [Option(name='2% Milk', option_values=['Warm', 'Steamed', 'Extra hot']),\n",
       "              Option(name='Caramel Drizzle', option_values=['Extra', 'Light', 'Medium'])],\n",
       "             'TALL': [Option(name='2% Milk', option_values=['Warm', 'Steamed', 'Extra hot']),\n",
       "              Option(name='Caramel Drizzle', option_values=['Extra', 'Light', 'Medium'])],\n",
       "             'GRANDE': [Option(name='2% Milk', option_values=['Warm', 'Steamed', 'Extra hot']),\n",
       "              Option(name='Caramel Drizzle', option_values=['Extra', 'Light', 'Medium'])],\n",
       "             'VENTI': [Option(name='2% Milk', option_values=['Warm', 'Steamed', 'Extra hot']),\n",
       "              Option(name='Caramel Drizzle', option_values=['Extra', 'Light', 'Medium'])]})"
      ]
     },
     "execution_count": 40,
     "metadata": {},
     "output_type": "execute_result"
    }
   ],
   "source": [
    "from typing import List\n",
    "@dataclass\n",
    "class Option:\n",
    "    name: str\n",
    "    option_values: List[str]\n",
    "\n",
    "response = (    \n",
    "            supabase.table(\"menu_item_to_options_map\")\n",
    "            .select(\"*, option(name), menu_item_to_option_values_map!inner(discrete_option_value(name))\")\n",
    "            .eq(\"menu_item_id\", 27)\n",
    "            .order('id')\n",
    "            .execute()\n",
    "        )\n",
    "\n",
    "size_to_available_options = defaultdict(list)\n",
    "for item in response.data:\n",
    "    option = item[\"option\"]\n",
    "    option_values = [obj[\"discrete_option_value\"][\"name\"] for obj in item[\"menu_item_to_option_values_map\"]]\n",
    "    size_to_available_options[item[\"cup_size\"]].append(Option(option[\"name\"], option_values))\n",
    "\n",
    "size_to_available_options"
   ]
  }
 ],
 "metadata": {
  "kernelspec": {
   "display_name": "cashier",
   "language": "python",
   "name": "python3"
  },
  "language_info": {
   "codemirror_mode": {
    "name": "ipython",
    "version": 3
   },
   "file_extension": ".py",
   "mimetype": "text/x-python",
   "name": "python",
   "nbconvert_exporter": "python",
   "pygments_lexer": "ipython3",
   "version": "3.11.9"
  }
 },
 "nbformat": 4,
 "nbformat_minor": 2
}
